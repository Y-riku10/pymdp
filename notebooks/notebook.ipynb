{
 "cells": [
  {
   "cell_type": "code",
   "execution_count": 1,
   "id": "2f336537",
   "metadata": {},
   "outputs": [],
   "source": [
    "import sys\n",
    "import os\n",
    "\n",
    "# notebooks/ から見た src のパスを追加\n",
    "sys.path.append(os.path.abspath(\"../src\"))\n",
    "\n",
    "# 自作パッケージを import\n",
    "from sim_utils import *"
   ]
  },
  {
   "cell_type": "code",
   "execution_count": 2,
   "id": "f9a58acc",
   "metadata": {},
   "outputs": [
    {
     "name": "stderr",
     "output_type": "stream",
     "text": [
      "2025-10-09 05:13:54,513 - pyswarms.single.global_best - INFO - Optimize for 2 iters with {'c1': 1.5, 'c2': 1.5, 'w': 0.9}\n"
     ]
    },
    {
     "name": "stdout",
     "output_type": "stream",
     "text": [
      "URDFファイルを ./robots/simple_arm_dof3.urdf に保存しました。自由度: 3\n",
      "URDFファイルを ./robots/simple_arm_dof3.urdf に保存しました。自由度: 3\n",
      "収束しました！ iteration: 23\n",
      "収束しました！ iteration: 23\n"
     ]
    },
    {
     "name": "stderr",
     "output_type": "stream",
     "text": [
      "pyswarms.single.global_best:   0%|          |0/2INFO:2025-10-09 05:13:55,595:jax._src.xla_bridge:752: Unable to initialize backend 'tpu': INTERNAL: Failed to open libtpu.so: libtpu.so: cannot open shared object file: No such file or directory\n",
      "2025-10-09 05:13:55,595 - jax._src.xla_bridge - INFO - Unable to initialize backend 'tpu': INTERNAL: Failed to open libtpu.so: libtpu.so: cannot open shared object file: No such file or directory\n",
      "pyswarms.single.global_best: 100%|██████████|2/2, best_cost=3.81e+3\n",
      "2025-10-09 05:13:56,228 - pyswarms.single.global_best - INFO - Optimization finished | best cost: 3810.386962890625, best pos: [0.68194357 1.1410628  0.70132366 0.42165454 1.19472292 1.07118083\n",
      " 0.54616025 0.80156766 1.07525658]\n"
     ]
    }
   ],
   "source": [
    "# optimizerの準備\n",
    "# モデル・データ読み込み\n",
    "model = get_simple_arm(dof=3)  # 自分のURDFを読み込むなら buildModelFromUrdf\n",
    "data = model.createData()\n",
    "agent = None\n",
    "time_steps = 100\n",
    "dt = 0.05\n",
    "\n",
    "# エンドエフェクタのframe名とid\n",
    "frame_name = \"ee_link\"\n",
    "frame_id = model.getFrameId(frame_name)\n",
    "# 目標位置と姿勢の計算（SE3）\n",
    "theta = np.pi/4\n",
    "Rs = pin.utils.rotate(\"y\", -3*theta)\n",
    "start_placement = pin.SE3(Rs, np.array([-2, 0, 0]))\n",
    "Re = pin.utils.rotate(\"y\", 3*theta)\n",
    "end_placement = pin.SE3(Re, np.array([2, 0, 0]))\n",
    "start = ik_se3_solver(model, data, frame_id, start_placement)\n",
    "end = ik_se3_solver(model, data, frame_id, end_placement)\n",
    "\n",
    "# 関節角の制限\n",
    "limits = same_limits(model.nq)\n",
    "# 最適化のパラメータ\n",
    "num_knots = 5\n",
    "n_particles = 100\n",
    "\n",
    "\n",
    "opt = Optimizer(model, agent, time_steps, dt, start, end, limits, num_knots)\n",
    "best_cost, best_particle, best_qs = opt.optimize(torque_change=1.0, iters=2)\n"
   ]
  },
  {
   "cell_type": "code",
   "execution_count": 4,
   "id": "8a445eff",
   "metadata": {},
   "outputs": [
    {
     "name": "stderr",
     "output_type": "stream",
     "text": [
      "2025-10-09 05:16:11,953 - matplotlib.animation - INFO - Animation.save using <class 'matplotlib.animation.PillowWriter'>\n"
     ]
    },
    {
     "name": "stdout",
     "output_type": "stream",
     "text": [
      "saving as './tmp_movies/sample.gif'...\n",
      "saved as sample\n"
     ]
    },
    {
     "data": {
      "image/png": "[encoded data removed]",
      "text/plain": [
       "<Figure size 600x600 with 1 Axes>"
      ]
     },
     "metadata": {},
     "output_type": "display_data"
    }
   ],
   "source": [
    "scope = {'x': (-3.5, 3.5), 'y': (-3.5, 3.5)}\n",
    "plot_robot_motion(model, best_qs, dt, detail=False, gripper_size=0.3, grid=False, scope=scope,movie='sample' )"
   ]
  },
  {
   "cell_type": "code",
   "execution_count": null,
   "id": "d87e8bcc",
   "metadata": {},
   "outputs": [],
   "source": []
  }
 ],
 "metadata": {
  "kernelspec": {
   "display_name": "robo_env",
   "language": "python",
   "name": "python3"
  },
  "language_info": {
   "codemirror_mode": {
    "name": "ipython",
    "version": 3
   },
   "file_extension": ".py",
   "mimetype": "text/x-python",
   "name": "python",
   "nbconvert_exporter": "python",
   "pygments_lexer": "ipython3",
   "version": "3.10.13"
  }
 },
 "nbformat": 4,
 "nbformat_minor": 5
}
